{
 "cells": [
  {
   "cell_type": "code",
   "execution_count": 33,
   "metadata": {
    "collapsed": true
   },
   "outputs": [],
   "source": [
    "import ifcopenshell as ifc\n",
    "import pymongo\n",
    "from pymongo import MongoClient\n",
    "from bson.objectid import ObjectId\n",
    "client = MongoClient('mongodb://ds055872.mongolab.com:55872')\n",
    "db = client.ifc\n",
    "db.authenticate(\"lorinma\", \"4GqUynt2\")\n",
    "file = ifc.open(\"tempfiles/test.ifc\")\n",
    "file.by_type(\"IfcBeam\");"
   ]
  },
  {
   "cell_type": "code",
   "execution_count": 39,
   "metadata": {
    "collapsed": false
   },
   "outputs": [
    {
     "name": "stdout",
     "output_type": "stream",
     "text": [
      "565e00ff0bff151826e2c9d2\n",
      "565e00ff0bff151826e2c9d2\n"
     ]
    }
   ],
   "source": [
    "# db.project.find_one({\"user_id\": \"abcdef\"})\n",
    "_id=ObjectId()\n",
    "p={\"_id\":_id,\"line_id\":1}\n",
    "print(str(_id))\n",
    "print(str(db.entity.insert_one(p).inserted_id))"
   ]
  }
 ],
 "metadata": {
  "kernelspec": {
   "display_name": "Python 3",
   "language": "python",
   "name": "python3"
  },
  "language_info": {
   "codemirror_mode": {
    "name": "ipython",
    "version": 3
   },
   "file_extension": ".py",
   "mimetype": "text/x-python",
   "name": "python",
   "nbconvert_exporter": "python",
   "pygments_lexer": "ipython3",
   "version": "3.5.0"
  }
 },
 "nbformat": 4,
 "nbformat_minor": 0
}
