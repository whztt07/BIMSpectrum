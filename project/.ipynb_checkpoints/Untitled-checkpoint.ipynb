{
 "cells": [
  {
   "cell_type": "code",
   "execution_count": null,
   "metadata": {
    "collapsed": true
   },
   "outputs": [],
   "source": [
    "def build_dict(seq, key):\n",
    "    return dict((d[key], dict(d, index=i)) for (i, d) in enumerate(seq))"
   ]
  },
  {
   "cell_type": "code",
   "execution_count": null,
   "metadata": {
    "collapsed": true
   },
   "outputs": [],
   "source": [
    "def build_dict(seq, key):\n",
    "    return dict((d[key], dict(d, index=i)) for (i, d) in enumerate(seq))\n",
    "def IfcMassMeasure(v):\n",
    "    return v\n",
    "\n",
    "import pymongo\n",
    "from pymongo import MongoClient\n",
    "client = MongoClient(host='ds055872.mongolab.com', port=55872)\n",
    "db = client.ifc\n",
    "db.authenticate(\"lorinma\", \"4GqUynt2\")\n",
    "\n",
    "import ifcopenshell as ifc\n",
    "path = \"/home/ubuntu/workspace/tempfiles/test.ifc\"\n",
    "file = ifc.open(path)\n",
    "num=file.wrapped_data.entity_names()\n",
    "data=list()\n",
    "for i in num:\n",
    "    from bson.objectid import ObjectId\n",
    "    entity = file.wrapped_data.by_id(i)\n",
    "    entity_data = {\"line_id\":entity.id(),\"_id\":ObjectId(),\"type\": entity.is_a(),\"content\": entity.__str__()}\n",
    "    data.append(entity_data)\n",
    "data_indexed=build_dict(data,key=\"line_id\")\n",
    "inx=0\n",
    "for i in num:\n",
    "    entity = file.wrapped_data.by_id(i)\n",
    "    for j in range(entity.__len__()):\n",
    "        attribute_name=entity.get_argument_name(j)\n",
    "        attribute_value=entity.get_argument(j)\n",
    "        try:\n",
    "            line_id=attribute_value.id()\n",
    "            if line_id==0:\n",
    "                data[inx][attribute_name].append(attribute_value.get_argument(0))\n",
    "            else:\n",
    "                data[inx][attribute_name]=data_indexed[line_id][\"_id\"]\n",
    "        except:\n",
    "            import types\n",
    "            if isinstance(attribute_value, list):\n",
    "                data[inx][attribute_name]=list()\n",
    "                for v in attribute_value:\n",
    "                    try:\n",
    "                        line_id=v.id()\n",
    "                        data[inx][attribute_name].append(data_indexed[line_id][\"_id\"])\n",
    "                    except:\n",
    "                        data[inx][attribute_name].append(v)\n",
    "            else:\n",
    "                data[inx][attribute_name]=attribute_value\n",
    "    include_list=file.wrapped_data.traverse(entity)\n",
    "    data[inx][\"include\"]=list()\n",
    "    for include in include_list:\n",
    "#         some traverse result may include some value like IfcMassMeasure(0.) which is just a subclass of real and has no line_id\n",
    "        try:\n",
    "            line_id=include.id()\n",
    "            if line_id!=i:\n",
    "                data[inx][\"include\"].append(data_indexed[line_id][\"_id\"])\n",
    "        except:\n",
    "            pass\n",
    "    inx+=1\n",
    "data\n",
    "# db.entity.insert_many(data)"
   ]
  },
  {
   "cell_type": "code",
   "execution_count": null,
   "metadata": {
    "collapsed": false
   },
   "outputs": [],
   "source": [
    "entity=file.wrapped_data.by_id(92)\n",
    "for j in range(entity.__len__()):\n",
    "    attribute_name=entity.get_argument_name(j)\n",
    "    attribute_value=entity.get_argument(j)\n",
    "    try:\n",
    "        line_id=attribute_value.id()\n",
    "        if line_id==0:\n",
    "            attribute_value=attribute_value.get_argument(0)\n",
    "#         print(line_id)\n",
    "    except:\n",
    "        pass\n",
    "    print(attribute_value)\n",
    "        \n",
    "#         .get_argument(\"NominalValue\").get_argument(0)"
   ]
  },
  {
   "cell_type": "code",
   "execution_count": 235,
   "metadata": {
    "collapsed": false
   },
   "outputs": [
    {
     "data": {
      "text/plain": [
       "['__class__',\n",
       " '__del__',\n",
       " '__delattr__',\n",
       " '__dict__',\n",
       " '__dir__',\n",
       " '__doc__',\n",
       " '__eq__',\n",
       " '__format__',\n",
       " '__ge__',\n",
       " '__getattr__',\n",
       " '__getattribute__',\n",
       " '__gt__',\n",
       " '__hash__',\n",
       " '__init__',\n",
       " '__le__',\n",
       " '__len__',\n",
       " '__lt__',\n",
       " '__module__',\n",
       " '__ne__',\n",
       " '__new__',\n",
       " '__reduce__',\n",
       " '__reduce_ex__',\n",
       " '__repr__',\n",
       " '__setattr__',\n",
       " '__sizeof__',\n",
       " '__str__',\n",
       " '__subclasshook__',\n",
       " '__swig_destroy__',\n",
       " '__swig_getmethods__',\n",
       " '__swig_setmethods__',\n",
       " '__weakref__',\n",
       " '_s',\n",
       " '_set_argument',\n",
       " 'getArgumentEntity',\n",
       " 'get_argument',\n",
       " 'get_argument_index',\n",
       " 'get_argument_name',\n",
       " 'get_argument_optionality',\n",
       " 'get_argument_type',\n",
       " 'get_inverse',\n",
       " 'id',\n",
       " 'is_a',\n",
       " 'is_valid',\n",
       " 'set_argument',\n",
       " 'this']"
      ]
     },
     "execution_count": 235,
     "metadata": {},
     "output_type": "execute_result"
    }
   ],
   "source": [
    "dir(file.wrapped_data.by_id(92).get_argument(\"NominalValue\"))"
   ]
  },
  {
   "cell_type": "code",
   "execution_count": 217,
   "metadata": {
    "collapsed": false
   },
   "outputs": [
    {
     "name": "stdout",
     "output_type": "stream",
     "text": [
      "#81=IfcShapeRepresentation(#12,'Body','Brep',(#79))\n"
     ]
    }
   ],
   "source": [
    "shape=file.by_type(\"IfcShapeRepresentation\")[0].wrapped_data\n",
    "print(shape)\n",
    "# shape.get_inverse(\"OfProductRepresentation\")\n",
    "# shape.getArgumentEntity(3)\n",
    "# shape.get_argument_optionality(3)\n",
    "usedby=file.wrapped_data.entitiesByReference(shape.id())\n",
    "# file.wrapped_data.getInverse(81,file.wrapped_data.by_id(81).getArgumentEntity(0),0)"
   ]
  },
  {
   "cell_type": "code",
   "execution_count": 220,
   "metadata": {
    "collapsed": false
   },
   "outputs": [
    {
     "data": {
      "text/plain": [
       "82"
      ]
     },
     "execution_count": 220,
     "metadata": {},
     "output_type": "execute_result"
    }
   ],
   "source": [
    "usedby[0].id()"
   ]
  },
  {
   "cell_type": "code",
   "execution_count": 211,
   "metadata": {
    "collapsed": false
   },
   "outputs": [
    {
     "data": {
      "text/plain": [
       "['MappingProxyType',\n",
       " 'RLock',\n",
       " 'WRAPPER_ASSIGNMENTS',\n",
       " 'WRAPPER_UPDATES',\n",
       " 'WeakKeyDictionary',\n",
       " '_CacheInfo',\n",
       " '_HashedSeq',\n",
       " '__all__',\n",
       " '__builtins__',\n",
       " '__cached__',\n",
       " '__doc__',\n",
       " '__file__',\n",
       " '__loader__',\n",
       " '__name__',\n",
       " '__package__',\n",
       " '__spec__',\n",
       " '_c3_merge',\n",
       " '_c3_mro',\n",
       " '_compose_mro',\n",
       " '_convert',\n",
       " '_find_impl',\n",
       " '_ge_from_gt',\n",
       " '_ge_from_le',\n",
       " '_ge_from_lt',\n",
       " '_gt_from_ge',\n",
       " '_gt_from_le',\n",
       " '_gt_from_lt',\n",
       " '_le_from_ge',\n",
       " '_le_from_gt',\n",
       " '_le_from_lt',\n",
       " '_lru_cache_wrapper',\n",
       " '_lt_from_ge',\n",
       " '_lt_from_gt',\n",
       " '_lt_from_le',\n",
       " '_make_key',\n",
       " 'cmp_to_key',\n",
       " 'get_cache_token',\n",
       " 'lru_cache',\n",
       " 'namedtuple',\n",
       " 'partial',\n",
       " 'partialmethod',\n",
       " 'reduce',\n",
       " 'singledispatch',\n",
       " 'total_ordering',\n",
       " 'update_wrapper',\n",
       " 'wraps']"
      ]
     },
     "execution_count": 211,
     "metadata": {},
     "output_type": "execute_result"
    }
   ],
   "source": [
    "dir(ifc.functools)"
   ]
  },
  {
   "cell_type": "code",
   "execution_count": 182,
   "metadata": {
    "collapsed": false
   },
   "outputs": [
    {
     "data": {
      "text/plain": [
       "['__class__',\n",
       " '__del__',\n",
       " '__delattr__',\n",
       " '__dict__',\n",
       " '__dir__',\n",
       " '__doc__',\n",
       " '__eq__',\n",
       " '__format__',\n",
       " '__ge__',\n",
       " '__getattr__',\n",
       " '__getattribute__',\n",
       " '__gt__',\n",
       " '__hash__',\n",
       " '__init__',\n",
       " '__le__',\n",
       " '__len__',\n",
       " '__lt__',\n",
       " '__module__',\n",
       " '__ne__',\n",
       " '__new__',\n",
       " '__reduce__',\n",
       " '__reduce_ex__',\n",
       " '__repr__',\n",
       " '__setattr__',\n",
       " '__sizeof__',\n",
       " '__str__',\n",
       " '__subclasshook__',\n",
       " '__swig_destroy__',\n",
       " '__swig_getmethods__',\n",
       " '__swig_setmethods__',\n",
       " '__weakref__',\n",
       " '_s',\n",
       " '_set_argument',\n",
       " 'getArgumentEntity',\n",
       " 'get_argument',\n",
       " 'get_argument_index',\n",
       " 'get_argument_name',\n",
       " 'get_argument_optionality',\n",
       " 'get_argument_type',\n",
       " 'get_inverse',\n",
       " 'id',\n",
       " 'is_a',\n",
       " 'is_valid',\n",
       " 'set_argument',\n",
       " 'this']"
      ]
     },
     "execution_count": 182,
     "metadata": {},
     "output_type": "execute_result"
    }
   ],
   "source": [
    "# dir(file.wrapped_data.getInverse)\n",
    "dir(shape)"
   ]
  },
  {
   "cell_type": "code",
   "execution_count": 133,
   "metadata": {
    "collapsed": false
   },
   "outputs": [
    {
     "name": "stdout",
     "output_type": "stream",
     "text": [
      "#499=IfcBeam('1LmLsj000CsZ4qCpWtCpKt',#5,'DAMAGED FACADE','300*300','300*300',#496,#498,'Concrete_B-1/0(?)')\n",
      "[#499=IfcBeam('1LmLsj000CsZ4qCpWtCpKt',#5,'DAMAGED FACADE','300*300','300*300',#496,#498,'Concrete_B-1/0(?)'), #5=IfcOwnerHistory(#3,#4,$,.NOCHANGE.,$,$,$,1438737194), #3=IfcPersonAndOrganization(#1,#2,$), #1=IfcPerson('DESKTOP-KSS1N7O\\malin','Undefined',$,$,$,$,$,$), #2=IfcOrganization($,'Tekla Corporation',$,$,$), #4=IfcApplication(#2,'21.0 Service Release 1','Tekla Structures Educational','Multi material modeling'), #496=IfcLocalPlacement(#491,#495), #491=IfcLocalPlacement(#30,#10), #30=IfcLocalPlacement(#28,#10), #28=IfcLocalPlacement(#26,#10), #26=IfcLocalPlacement($,#10), #10=IfcAxis2Placement3D(#6,#9,#7), #6=IfcCartesianPoint((0.,0.,0.)), #9=IfcDirection((0.,0.,1.)), #7=IfcDirection((1.,0.,0.)), #495=IfcAxis2Placement3D(#494,#9,#119), #494=IfcCartesianPoint((2150.,10650.,11850.)), #119=IfcDirection((-1.,0.,0.)), #498=IfcProductDefinitionShape($,$,(#497)), #497=IfcShapeRepresentation(#12,'Body','Brep',(#343)), #12=IfcGeometricRepresentationSubContext('Body','Model',*,*,*,*,#11,$,.MODEL_VIEW.,$), #11=IfcGeometricRepresentationContext($,'Model',3,1.E-005,#10,$), #343=IfcFacetedBrep(#342), #342=IfcClosedShell((#303,#135,#306,#309,#312,#315,#322,#329,#332,#335,#338,#341)), #303=IfcFace((#302)), #302=IfcFaceOuterBound(#301,.T.), #301=IfcPolyLoop((#297,#298,#299,#300)), #297=IfcCartesianPoint((1950.,-150.,150.)), #298=IfcCartesianPoint((1950.,-150.,-150.)), #299=IfcCartesianPoint((1950.,150.,-150.)), #300=IfcCartesianPoint((1950.,150.,150.)), #135=IfcFace((#134)), #134=IfcFaceOuterBound(#133,.T.), #133=IfcPolyLoop((#129,#130,#131,#132)), #129=IfcCartesianPoint((0.,-150.,-150.)), #130=IfcCartesianPoint((0.,-150.,150.)), #131=IfcCartesianPoint((0.,150.,150.)), #132=IfcCartesianPoint((0.,150.,-150.)), #306=IfcFace((#305)), #305=IfcFaceOuterBound(#304,.T.), #304=IfcPolyLoop((#131,#130,#297,#300)), #309=IfcFace((#308)), #308=IfcFaceOuterBound(#307,.T.), #307=IfcPolyLoop((#132,#131,#300,#299)), #312=IfcFace((#311)), #311=IfcFaceOuterBound(#310,.T.), #310=IfcPolyLoop((#129,#132,#299,#298)), #315=IfcFace((#314)), #314=IfcFaceOuterBound(#313,.T.), #313=IfcPolyLoop((#130,#129,#298,#297)), #322=IfcFace((#321)), #321=IfcFaceOuterBound(#320,.T.), #320=IfcPolyLoop((#316,#317,#318,#319)), #316=IfcCartesianPoint((2350.,-150.,150.)), #317=IfcCartesianPoint((2350.,150.,150.)), #318=IfcCartesianPoint((2350.,150.,-150.)), #319=IfcCartesianPoint((2350.,-150.,-150.)), #329=IfcFace((#328)), #328=IfcFaceOuterBound(#327,.T.), #327=IfcPolyLoop((#323,#324,#325,#326)), #323=IfcCartesianPoint((3150.,-150.,150.)), #324=IfcCartesianPoint((3150.,-150.,-150.)), #325=IfcCartesianPoint((3150.,150.,-150.)), #326=IfcCartesianPoint((3150.,150.,150.)), #332=IfcFace((#331)), #331=IfcFaceOuterBound(#330,.T.), #330=IfcPolyLoop((#324,#323,#316,#319)), #335=IfcFace((#334)), #334=IfcFaceOuterBound(#333,.T.), #333=IfcPolyLoop((#325,#324,#319,#318)), #338=IfcFace((#337)), #337=IfcFaceOuterBound(#336,.T.), #336=IfcPolyLoop((#326,#325,#318,#317)), #341=IfcFace((#340)), #340=IfcFaceOuterBound(#339,.T.), #339=IfcPolyLoop((#323,#326,#317,#316))]\n"
     ]
    }
   ],
   "source": [
    "entity = file.wrapped_data.by_id(499)\n",
    "print(entity)\n",
    "print(file.wrapped_data.traverse(entity))\n",
    "# print(entity.get_inverse(\"ShapeOfProduct\"))\n",
    "# x.__str__()"
   ]
  },
  {
   "cell_type": "code",
   "execution_count": null,
   "metadata": {
    "collapsed": true
   },
   "outputs": [],
   "source": []
  },
  {
   "cell_type": "code",
   "execution_count": 14,
   "metadata": {
    "collapsed": false
   },
   "outputs": [
    {
     "data": {
      "text/plain": [
       "['__class__',\n",
       " '__del__',\n",
       " '__delattr__',\n",
       " '__dict__',\n",
       " '__dir__',\n",
       " '__doc__',\n",
       " '__eq__',\n",
       " '__format__',\n",
       " '__ge__',\n",
       " '__getattr__',\n",
       " '__getattribute__',\n",
       " '__gt__',\n",
       " '__hash__',\n",
       " '__init__',\n",
       " '__le__',\n",
       " '__len__',\n",
       " '__lt__',\n",
       " '__module__',\n",
       " '__ne__',\n",
       " '__new__',\n",
       " '__reduce__',\n",
       " '__reduce_ex__',\n",
       " '__repr__',\n",
       " '__setattr__',\n",
       " '__sizeof__',\n",
       " '__str__',\n",
       " '__subclasshook__',\n",
       " '__swig_destroy__',\n",
       " '__swig_getmethods__',\n",
       " '__swig_setmethods__',\n",
       " '__weakref__',\n",
       " '_s',\n",
       " '_set_argument',\n",
       " 'getArgumentEntity',\n",
       " 'get_argument',\n",
       " 'get_argument_index',\n",
       " 'get_argument_name',\n",
       " 'get_argument_optionality',\n",
       " 'get_argument_type',\n",
       " 'get_inverse',\n",
       " 'id',\n",
       " 'is_a',\n",
       " 'is_valid',\n",
       " 'set_argument',\n",
       " 'this']"
      ]
     },
     "execution_count": 14,
     "metadata": {},
     "output_type": "execute_result"
    }
   ],
   "source": [
    "dir(entity)"
   ]
  },
  {
   "cell_type": "code",
   "execution_count": 116,
   "metadata": {
    "collapsed": false
   },
   "outputs": [
    {
     "data": {
      "text/plain": [
       "[#3=IfcPersonAndOrganization(#1,#2,$)]"
      ]
     },
     "execution_count": 116,
     "metadata": {},
     "output_type": "execute_result"
    }
   ],
   "source": [
    "file.wrapped_data.entitiesByReference(entity.id())"
   ]
  },
  {
   "cell_type": "code",
   "execution_count": 132,
   "metadata": {
    "collapsed": false
   },
   "outputs": [
    {
     "ename": "TypeError",
     "evalue": "in method 'file_getInverse', argument 3 of type 'IfcSchema::Type::Enum'",
     "output_type": "error",
     "traceback": [
      "\u001b[1;31m---------------------------------------------------------------------------\u001b[0m",
      "\u001b[1;31mTypeError\u001b[0m                                 Traceback (most recent call last)",
      "\u001b[1;32m<ipython-input-132-07d6aa82645c>\u001b[0m in \u001b[0;36m<module>\u001b[1;34m()\u001b[0m\n\u001b[1;32m----> 1\u001b[1;33m \u001b[0mfile\u001b[0m\u001b[1;33m.\u001b[0m\u001b[0mwrapped_data\u001b[0m\u001b[1;33m.\u001b[0m\u001b[0mgetInverse\u001b[0m\u001b[1;33m(\u001b[0m\u001b[0mentity\u001b[0m\u001b[1;33m.\u001b[0m\u001b[0mid\u001b[0m\u001b[1;33m(\u001b[0m\u001b[1;33m)\u001b[0m\u001b[1;33m,\u001b[0m\u001b[0mentity\u001b[0m\u001b[1;33m,\u001b[0m\u001b[1;36m0\u001b[0m\u001b[1;33m)\u001b[0m\u001b[1;33m\u001b[0m\u001b[0m\n\u001b[0m",
      "\u001b[1;32m/home/ubuntu/workspace/project/ifcopenshell/ifcopenshell_wrapper.py\u001b[0m in \u001b[0;36mgetInverse\u001b[1;34m(self, *args)\u001b[0m\n\u001b[0;32m    802\u001b[0m     \u001b[1;32mdef\u001b[0m \u001b[0mby_type\u001b[0m\u001b[1;33m(\u001b[0m\u001b[0mself\u001b[0m\u001b[1;33m,\u001b[0m \u001b[1;33m*\u001b[0m\u001b[0margs\u001b[0m\u001b[1;33m)\u001b[0m\u001b[1;33m:\u001b[0m \u001b[1;32mreturn\u001b[0m \u001b[0m_ifcopenshell_wrapper\u001b[0m\u001b[1;33m.\u001b[0m\u001b[0mfile_by_type\u001b[0m\u001b[1;33m(\u001b[0m\u001b[0mself\u001b[0m\u001b[1;33m,\u001b[0m \u001b[1;33m*\u001b[0m\u001b[0margs\u001b[0m\u001b[1;33m)\u001b[0m\u001b[1;33m\u001b[0m\u001b[0m\n\u001b[0;32m    803\u001b[0m     \u001b[1;32mdef\u001b[0m \u001b[0mentitiesByReference\u001b[0m\u001b[1;33m(\u001b[0m\u001b[0mself\u001b[0m\u001b[1;33m,\u001b[0m \u001b[1;33m*\u001b[0m\u001b[0margs\u001b[0m\u001b[1;33m)\u001b[0m\u001b[1;33m:\u001b[0m \u001b[1;32mreturn\u001b[0m \u001b[0m_ifcopenshell_wrapper\u001b[0m\u001b[1;33m.\u001b[0m\u001b[0mfile_entitiesByReference\u001b[0m\u001b[1;33m(\u001b[0m\u001b[0mself\u001b[0m\u001b[1;33m,\u001b[0m \u001b[1;33m*\u001b[0m\u001b[0margs\u001b[0m\u001b[1;33m)\u001b[0m\u001b[1;33m\u001b[0m\u001b[0m\n\u001b[1;32m--> 804\u001b[1;33m     \u001b[1;32mdef\u001b[0m \u001b[0mgetInverse\u001b[0m\u001b[1;33m(\u001b[0m\u001b[0mself\u001b[0m\u001b[1;33m,\u001b[0m \u001b[1;33m*\u001b[0m\u001b[0margs\u001b[0m\u001b[1;33m)\u001b[0m\u001b[1;33m:\u001b[0m \u001b[1;32mreturn\u001b[0m \u001b[0m_ifcopenshell_wrapper\u001b[0m\u001b[1;33m.\u001b[0m\u001b[0mfile_getInverse\u001b[0m\u001b[1;33m(\u001b[0m\u001b[0mself\u001b[0m\u001b[1;33m,\u001b[0m \u001b[1;33m*\u001b[0m\u001b[0margs\u001b[0m\u001b[1;33m)\u001b[0m\u001b[1;33m\u001b[0m\u001b[0m\n\u001b[0m\u001b[0;32m    805\u001b[0m     \u001b[1;32mdef\u001b[0m \u001b[0mFreshId\u001b[0m\u001b[1;33m(\u001b[0m\u001b[0mself\u001b[0m\u001b[1;33m)\u001b[0m\u001b[1;33m:\u001b[0m \u001b[1;32mreturn\u001b[0m \u001b[0m_ifcopenshell_wrapper\u001b[0m\u001b[1;33m.\u001b[0m\u001b[0mfile_FreshId\u001b[0m\u001b[1;33m(\u001b[0m\u001b[0mself\u001b[0m\u001b[1;33m)\u001b[0m\u001b[1;33m\u001b[0m\u001b[0m\n\u001b[0;32m    806\u001b[0m     \u001b[1;32mdef\u001b[0m \u001b[0maddEntities\u001b[0m\u001b[1;33m(\u001b[0m\u001b[0mself\u001b[0m\u001b[1;33m,\u001b[0m \u001b[1;33m*\u001b[0m\u001b[0margs\u001b[0m\u001b[1;33m)\u001b[0m\u001b[1;33m:\u001b[0m \u001b[1;32mreturn\u001b[0m \u001b[0m_ifcopenshell_wrapper\u001b[0m\u001b[1;33m.\u001b[0m\u001b[0mfile_addEntities\u001b[0m\u001b[1;33m(\u001b[0m\u001b[0mself\u001b[0m\u001b[1;33m,\u001b[0m \u001b[1;33m*\u001b[0m\u001b[0margs\u001b[0m\u001b[1;33m)\u001b[0m\u001b[1;33m\u001b[0m\u001b[0m\n",
      "\u001b[1;31mTypeError\u001b[0m: in method 'file_getInverse', argument 3 of type 'IfcSchema::Type::Enum'"
     ]
    }
   ],
   "source": [
    "file.wrapped_data.getInverse(entity.id(),entity,0)"
   ]
  },
  {
   "cell_type": "code",
   "execution_count": 129,
   "metadata": {
    "collapsed": false
   },
   "outputs": [
    {
     "data": {
      "text/plain": [
       "<Signature (*args)>"
      ]
     },
     "execution_count": 129,
     "metadata": {},
     "output_type": "execute_result"
    }
   ],
   "source": [
    "import inspect\n",
    "inspect.signature(file.wrapped_data.getInverse)"
   ]
  },
  {
   "cell_type": "code",
   "execution_count": 120,
   "metadata": {
    "collapsed": false
   },
   "outputs": [
    {
     "data": {
      "text/plain": [
       "['__call__',\n",
       " '__class__',\n",
       " '__delattr__',\n",
       " '__dir__',\n",
       " '__doc__',\n",
       " '__eq__',\n",
       " '__format__',\n",
       " '__func__',\n",
       " '__ge__',\n",
       " '__get__',\n",
       " '__getattribute__',\n",
       " '__gt__',\n",
       " '__hash__',\n",
       " '__init__',\n",
       " '__le__',\n",
       " '__lt__',\n",
       " '__ne__',\n",
       " '__new__',\n",
       " '__reduce__',\n",
       " '__reduce_ex__',\n",
       " '__repr__',\n",
       " '__self__',\n",
       " '__setattr__',\n",
       " '__sizeof__',\n",
       " '__str__',\n",
       " '__subclasshook__']"
      ]
     },
     "execution_count": 120,
     "metadata": {},
     "output_type": "execute_result"
    }
   ],
   "source": [
    "dir(file.wrapped_data.getInverse)"
   ]
  },
  {
   "cell_type": "code",
   "execution_count": 30,
   "metadata": {
    "collapsed": false
   },
   "outputs": [
    {
     "data": {
      "text/plain": [
       "False"
      ]
     },
     "execution_count": 30,
     "metadata": {},
     "output_type": "execute_result"
    }
   ],
   "source": [
    "dd=entity.get_argument(0)\n",
    "import types\n",
    "isinstance(dd[0], list)"
   ]
  },
  {
   "cell_type": "code",
   "execution_count": 15,
   "metadata": {
    "collapsed": false
   },
   "outputs": [],
   "source": [
    "# data=list()\n",
    "# for i in num:\n",
    "#     entity = file.wrapped_data.by_id(i)\n",
    "#     entity_data = {\"line_id\":entity.id(),\"type\": entity.is_a(),\"content\": entity.__str__(),\"file_id\":file_id}\n",
    "#     for j in xrange(entity.__len__()):\n",
    "#         try:\n",
    "#             entity_data[entity.get_argument_name(j)]=entity.get_argument(j).id()\n",
    "#         except:\n",
    "#             entity_data[entity.get_argument_name(j)]=entity.get_argument(j)\n",
    "#         data.append(entity_data)\n",
    "print data"
   ]
  },
  {
   "cell_type": "code",
   "execution_count": null,
   "metadata": {
    "collapsed": true
   },
   "outputs": [],
   "source": [
    "\n",
    "data=list()\n",
    "for x in xrange(size):\n",
    "    entity = file.wrapped_data.by_id(num[x])\n",
    "    for i in xrange(entity.__len__()):\n",
    "        keys[entity.id()][entity.get_argument_name(i)]=entity.get_argument(i)\n",
    "    \n",
    "    entity_data = {\"line_id\":entity.id(),\"type\": entity.is_a(),\"content\": entity.__str__(),\"file_id\":file_id}\n",
    "    data.append(entity_data)\n",
    "inx = 0\n",
    "for item in data:\n",
    "    item['_id']=objid[inx]['_id']\n",
    "    inx+=1\n",
    "keys = build_dict(data, key=\"line_id\")\n",
    "for x in xrange(2):\n",
    "    entity = file.wrapped_data.by_id(num[x])\n",
    "    for i in xrange(entity.__len__()):\n",
    "        keys[entity.id()][entity.get_argument_name(i)]=entity.get_argument(i)\n",
    "print keys"
   ]
  },
  {
   "cell_type": "code",
   "execution_count": 43,
   "metadata": {
    "collapsed": false
   },
   "outputs": [
    {
     "name": "stdout",
     "output_type": "stream",
     "text": [
      "#1325=IfcFaceOuterBound(#1324,.T.)\n"
     ]
    },
    {
     "data": {
      "text/plain": [
       "{'Bound': 1324, 'Orientation': True}"
      ]
     },
     "execution_count": 43,
     "metadata": {},
     "output_type": "execute_result"
    }
   ],
   "source": [
    "entity = file.wrapped_data.by_id(1325)\n",
    "t=dict()\n",
    "print entity\n",
    "for i in xrange(entity.__len__()):\n",
    "    try:\n",
    "        t[entity.get_argument_name(i)]=entity.get_argument(i).id()\n",
    "    except:\n",
    "        t[entity.get_argument_name(i)]=entity.get_argument(i)\n",
    "t"
   ]
  },
  {
   "cell_type": "code",
   "execution_count": 40,
   "metadata": {
    "collapsed": false
   },
   "outputs": [
    {
     "data": {
      "text/plain": [
       "33"
      ]
     },
     "execution_count": 40,
     "metadata": {},
     "output_type": "execute_result"
    }
   ],
   "source": [
    "dir(entity.get_argument(0)).index('id')"
   ]
  },
  {
   "cell_type": "code",
   "execution_count": 8,
   "metadata": {
    "collapsed": true
   },
   "outputs": [],
   "source": [
    "size=2\n",
    "objid=[{'_id':\"565616aed737bd1502599c2e\"},{'_id':\"565616aed737bd1502599c2f\"}]"
   ]
  },
  {
   "cell_type": "code",
   "execution_count": 43,
   "metadata": {
    "collapsed": false
   },
   "outputs": [
    {
     "data": {
      "text/plain": [
       "{1: {'Addresses': None,\n",
       "  'FamilyName': 'Undefined',\n",
       "  'GivenName': None,\n",
       "  'Id': 'DESKTOP-KSS1N7O\\\\malin',\n",
       "  'MiddleNames': None,\n",
       "  'PrefixTitles': None,\n",
       "  'Roles': None,\n",
       "  'SuffixTitles': None,\n",
       "  '_id': '565616aed737bd1502599c2e',\n",
       "  'content': \"#1=IfcPerson('DESKTOP-KSS1N7O\\\\malin','Undefined',$,$,$,$,$,$)\",\n",
       "  'file_id': '5654bfa9d737bd7e94b37e6c',\n",
       "  'index': 0,\n",
       "  'line_id': 1,\n",
       "  'type': 'IfcPerson'},\n",
       " 2: {'Addresses': None,\n",
       "  'Description': None,\n",
       "  'Id': None,\n",
       "  'Name': 'Tekla Corporation',\n",
       "  'Roles': None,\n",
       "  '_id': '565616aed737bd1502599c2f',\n",
       "  'content': \"#2=IfcOrganization($,'Tekla Corporation',$,$,$)\",\n",
       "  'file_id': '5654bfa9d737bd7e94b37e6c',\n",
       "  'index': 1,\n",
       "  'line_id': 2,\n",
       "  'type': 'IfcOrganization'}}"
      ]
     },
     "execution_count": 43,
     "metadata": {},
     "output_type": "execute_result"
    }
   ],
   "source": [
    "keys"
   ]
  },
  {
   "cell_type": "code",
   "execution_count": 46,
   "metadata": {
    "collapsed": false
   },
   "outputs": [
    {
     "name": "stdout",
     "output_type": "stream",
     "text": [
      "[{'Roles': None, 'line_id': 1, 'file_id': '5654bfa9d737bd7e94b37e6c', 'GivenName': None, 'index': 0, 'Addresses': None, 'FamilyName': 'Undefined', 'content': \"#1=IfcPerson('DESKTOP-KSS1N7O\\\\malin','Undefined',$,$,$,$,$,$)\", 'PrefixTitles': None, 'SuffixTitles': None, '_id': '565616aed737bd1502599c2e', 'type': 'IfcPerson', 'Id': 'DESKTOP-KSS1N7O\\\\malin', 'MiddleNames': None}, {'Name': 'Tekla Corporation', 'Roles': None, 'line_id': 2, 'file_id': '5654bfa9d737bd7e94b37e6c', 'Description': None, 'index': 1, 'Addresses': None, 'content': \"#2=IfcOrganization($,'Tekla Corporation',$,$,$)\", '_id': '565616aed737bd1502599c2f', 'type': 'IfcOrganization', 'Id': None}]\n"
     ]
    }
   ],
   "source": [
    "enriched_data = list()\n",
    "for key in keys:\n",
    "    enriched_data.append(keys[key])\n",
    "print enriched_data"
   ]
  }
 ],
 "metadata": {
  "kernelspec": {
   "display_name": "Python 3",
   "language": "python",
   "name": "python3"
  },
  "language_info": {
   "codemirror_mode": {
    "name": "ipython",
    "version": 3
   },
   "file_extension": ".py",
   "mimetype": "text/x-python",
   "name": "python",
   "nbconvert_exporter": "python",
   "pygments_lexer": "ipython3",
   "version": "3.5.0"
  }
 },
 "nbformat": 4,
 "nbformat_minor": 0
}
